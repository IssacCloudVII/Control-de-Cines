{
  "nbformat": 4,
  "nbformat_minor": 0,
  "metadata": {
    "colab": {
      "provenance": [],
      "authorship_tag": "ABX9TyMRBrm4vXoXeHoBNPeDxn/L",
      "include_colab_link": true
    },
    "kernelspec": {
      "name": "python3",
      "display_name": "Python 3"
    },
    "language_info": {
      "name": "python"
    }
  },
  "cells": [
    {
      "cell_type": "markdown",
      "metadata": {
        "id": "view-in-github",
        "colab_type": "text"
      },
      "source": [
        "<a href=\"https://colab.research.google.com/github/IssacCloudVII/Control-de-Cines/blob/master/MASPARTICIPACION/Correcci%C3%B3n_Ejercicio_04_MFRS.ipynb\" target=\"_parent\"><img src=\"https://colab.research.google.com/assets/colab-badge.svg\" alt=\"Open In Colab\"/></a>"
      ]
    },
    {
      "cell_type": "code",
      "execution_count": null,
      "metadata": {
        "id": "nVaGzMOnxycN",
        "colab": {
          "base_uri": "https://localhost:8080/"
        },
        "outputId": "abbeb18b-af1a-4771-c95b-c22425697571"
      },
      "outputs": [
        {
          "output_type": "stream",
          "name": "stdout",
          "text": [
            "¿De que número desea saber la tabla de multiplicar?: 9\n",
            "9 x 1 = 9\n",
            "9 x 2 = 18\n",
            "9 x 3 = 27\n",
            "9 x 4 = 36\n",
            "9 x 5 = 45\n",
            "9 x 6 = 54\n",
            "9 x 7 = 63\n",
            "9 x 8 = 72\n",
            "9 x 9 = 81\n",
            "9 x 10 = 90\n"
          ]
        }
      ],
      "source": [
        "#Maria Fernanda Rojas Sevilla\n",
        "numero = int (input('¿De que número desea saber la tabla de multiplicar?: '))\n",
        "for x in range (1,11):\n",
        "  print('{} x {} = {}'.format(numero, x ,x*numero))"
      ]
    }
  ]
}